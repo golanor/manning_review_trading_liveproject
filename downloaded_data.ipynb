{
 "cells": [
  {
   "cell_type": "code",
   "execution_count": 2,
   "metadata": {},
   "outputs": [],
   "source": [
    "import pandas as pd"
   ]
  },
  {
   "cell_type": "code",
   "execution_count": 3,
   "metadata": {},
   "outputs": [],
   "source": [
    "df = pd.read_csv(\"../data/WIKI_PRICES_212b326a081eacca455e13140d7bb9db.csv\")\n",
    "df.date = pd.to_datetime(df.date)\n",
    "df = df.loc[df.date >= \"01-01-2000\"]\n",
    "df.set_index([\"ticker\", \"date\"], inplace=True)\n",
    "df = df.loc[:, [c for c in df.columns if \"adj\" in c]]\n",
    "df.rename({c: c.lstrip(\"adj_\") for c in df.columns}, axis=1, inplace=True)"
   ]
  },
  {
   "cell_type": "code",
   "execution_count": 5,
   "metadata": {},
   "outputs": [],
   "source": [
    "df.to_hdf(\"data.h5\", \"/data/d1\")"
   ]
  },
  {
   "cell_type": "code",
   "execution_count": null,
   "metadata": {},
   "outputs": [],
   "source": []
  }
 ],
 "metadata": {
  "kernelspec": {
   "display_name": "Python [conda env:liveproject-zipline]",
   "language": "python",
   "name": "conda-env-liveproject-zipline-py"
  },
  "language_info": {
   "codemirror_mode": {
    "name": "ipython",
    "version": 3
   },
   "file_extension": ".py",
   "mimetype": "text/x-python",
   "name": "python",
   "nbconvert_exporter": "python",
   "pygments_lexer": "ipython3",
   "version": "3.5.6"
  }
 },
 "nbformat": 4,
 "nbformat_minor": 4
}
